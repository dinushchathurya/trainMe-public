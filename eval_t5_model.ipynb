{
 "cells": [
  {
   "cell_type": "code",
   "execution_count": 2,
   "metadata": {},
   "outputs": [
    {
     "name": "stderr",
     "output_type": "stream",
     "text": [
      "/home/nisal/anaconda3/envs/trainme/lib/python3.8/site-packages/huggingface_hub/file_download.py:1132: FutureWarning: `resume_download` is deprecated and will be removed in version 1.0.0. Downloads always resume when possible. If you want to force a new download, use `force_download=True`.\n",
      "  warnings.warn(\n",
      "06/23/2024 20:42:39 - INFO - happytransformer.happy_transformer -   Using device: cpu\n",
      "06/23/2024 20:42:39 - INFO - happytransformer.happy_transformer -   Moving model to cpu\n",
      "06/23/2024 20:42:39 - INFO - happytransformer.happy_transformer -   Initializing a pipeline\n"
     ]
    },
    {
     "name": "stdout",
     "output_type": "stream",
     "text": [
      "GLEU score on JFLEG test set: 0.000\n"
     ]
    }
   ],
   "source": [
    "from datasets import load_dataset\n",
    "# from happytransformer import HappyTextToText, TTSettings\n",
    "from transformers import pipeline\n",
    "from nltk.translate.gleu_score import sentence_gleu\n",
    "\n",
    "# Load JFLEG dataset\n",
    "jfleg_dataset = load_dataset(\"jfleg\")\n",
    "\n",
    "# Load fine-tuned T5 model with HappyTextToText\n",
    "model_path = \"users/models/grammermodels/\"\n",
    "# beam_settings =  TTSettings(num_beams=5, min_length=1, max_length=500)\n",
    "# model = HappyTextToText(\"T5\", \"vennify/t5-base-grammar-correction\")\n",
    "classifier = pipeline(\"text2text-generation\", model=\"hafidikhsan/happy-transformer-t5-base-grammar-correction-ep-v1\")\n",
    "\n",
    "def evaluate(dataset):\n",
    "    gleu_scores = []\n",
    "    \n",
    "    for example in dataset:\n",
    "        input_text = example[\"sentence\"]\n",
    "        references = example[\"corrections\"]\n",
    "        \n",
    "        if input_text:\n",
    "            # Generate correction using HappyTextToText\n",
    "            result = classifier(input_text)\n",
    "            correction = result\n",
    "\n",
    "            # Calculate GLEU score for this example\n",
    "            example_gleu = sentence_gleu([correction], references)\n",
    "            gleu_scores.append(example_gleu)\n",
    "\n",
    "    # Return mean GLEU score across dataset    \n",
    "    return sum(gleu_scores) / len(gleu_scores)\n",
    "\n",
    "# Evaluate on JFLEG test set\n",
    "test_gleu = evaluate(jfleg_dataset[\"test\"]) \n",
    "print(f\"GLEU score on JFLEG test set: {test_gleu:.3f}\")"
   ]
  },
  {
   "cell_type": "code",
   "execution_count": null,
   "metadata": {},
   "outputs": [],
   "source": []
  }
 ],
 "metadata": {
  "kernelspec": {
   "display_name": "presently",
   "language": "python",
   "name": "python3"
  },
  "language_info": {
   "codemirror_mode": {
    "name": "ipython",
    "version": 3
   },
   "file_extension": ".py",
   "mimetype": "text/x-python",
   "name": "python",
   "nbconvert_exporter": "python",
   "pygments_lexer": "ipython3",
   "version": "3.8.19"
  }
 },
 "nbformat": 4,
 "nbformat_minor": 2
}
